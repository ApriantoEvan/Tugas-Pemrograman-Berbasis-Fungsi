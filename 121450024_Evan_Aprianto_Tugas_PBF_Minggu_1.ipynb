{
  "nbformat": 4,
  "nbformat_minor": 0,
  "metadata": {
    "colab": {
      "provenance": []
    },
    "kernelspec": {
      "name": "python3",
      "display_name": "Python 3"
    },
    "language_info": {
      "name": "python"
    }
  },
  "cells": [
    {
      "cell_type": "code",
      "execution_count": 2,
      "metadata": {
        "colab": {
          "base_uri": "https://localhost:8080/"
        },
        "id": "iYcx34pc70t5",
        "outputId": "57340b14-4b2f-46db-ae0a-83b6ec919202"
      },
      "outputs": [
        {
          "output_type": "stream",
          "name": "stdout",
          "text": [
            "Enter a password (up to 100 characters): sains data 2023\n",
            "Encrypted password: T[-Sc-TQ+TV-T[-QV-Sf-Sc-T\\-Sc-QV-Qh-Qf-Qh-Qi-\n"
          ]
        }
      ],
      "source": [
        "from functools import reduce\n",
        "\n",
        "def encrypt(char):\n",
        "    ascii_value = ord(char)\n",
        "    first_value = (ascii_value // 26) + 80\n",
        "    second_value = (ascii_value % 26) + 80\n",
        "    third_value = '+' if first_value > second_value else '-'\n",
        "    return chr(first_value) + chr(second_value) + third_value\n",
        "\n",
        "def encrypt_password(password):\n",
        "    return reduce(lambda acc, char: acc + encrypt(char), password, '')\n",
        "\n",
        "password = input(\"Enter a password (up to 100 characters): \")\n",
        "encrypted_password = encrypt_password(password)\n",
        "print(\"Encrypted password:\", encrypted_password)"
      ]
    }
  ]
}